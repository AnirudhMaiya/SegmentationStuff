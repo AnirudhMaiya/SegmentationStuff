{
  "nbformat": 4,
  "nbformat_minor": 0,
  "metadata": {
    "colab": {
      "name": "Pix2PixButNoPatch.ipynb",
      "provenance": [],
      "collapsed_sections": []
    },
    "kernelspec": {
      "name": "python3",
      "display_name": "Python 3"
    },
    "accelerator": "GPU"
  },
  "cells": [
    {
      "cell_type": "code",
      "metadata": {
        "id": "guZ4umC3SGEy",
        "colab_type": "code",
        "outputId": "da011187-0143-4213-90e6-30ca72589409",
        "colab": {
          "base_uri": "https://localhost:8080/",
          "height": 35
        }
      },
      "source": [
        "from google.colab import drive\n",
        "drive.mount('/content/drive')"
      ],
      "execution_count": 1,
      "outputs": [
        {
          "output_type": "stream",
          "text": [
            "Drive already mounted at /content/drive; to attempt to forcibly remount, call drive.mount(\"/content/drive\", force_remount=True).\n"
          ],
          "name": "stdout"
        }
      ]
    },
    {
      "cell_type": "code",
      "metadata": {
        "id": "hd1JXsvy0BjZ",
        "colab_type": "code",
        "outputId": "8a13f481-7f42-4082-d66c-f1db3b4ff167",
        "colab": {
          "base_uri": "https://localhost:8080/",
          "height": 83
        }
      },
      "source": [
        "import numpy as np\n",
        "import matplotlib.pyplot as plt\n",
        "from sklearn.model_selection import train_test_split\n",
        "import random\n",
        "from keras.models import Sequential,Model\n",
        "from keras.layers import AveragePooling2D,Conv2D,Dropout,Flatten,BatchNormalization,LeakyReLU,Dense,Activation,UpSampling2D,Conv2DTranspose,MaxPooling2D,concatenate\n",
        "from keras.losses import binary_crossentropy\n",
        "from keras.optimizers import *\n",
        "from keras import Input"
      ],
      "execution_count": 1,
      "outputs": [
        {
          "output_type": "stream",
          "text": [
            "Using TensorFlow backend.\n"
          ],
          "name": "stderr"
        },
        {
          "output_type": "display_data",
          "data": {
            "text/html": [
              "<p style=\"color: red;\">\n",
              "The default version of TensorFlow in Colab will soon switch to TensorFlow 2.x.<br>\n",
              "We recommend you <a href=\"https://www.tensorflow.org/guide/migrate\" target=\"_blank\">upgrade</a> now \n",
              "or ensure your notebook will continue to use TensorFlow 1.x via the <code>%tensorflow_version 1.x</code> magic:\n",
              "<a href=\"https://colab.research.google.com/notebooks/tensorflow_version.ipynb\" target=\"_blank\">more info</a>.</p>\n"
            ],
            "text/plain": [
              "<IPython.core.display.HTML object>"
            ]
          },
          "metadata": {
            "tags": []
          }
        }
      ]
    },
    {
      "cell_type": "code",
      "metadata": {
        "id": "B7hC25mmLmaT",
        "colab_type": "code",
        "colab": {}
      },
      "source": [
        "import imgaug as ia\n",
        "from imgaug import augmenters as iaa\n",
        "ia.seed(4)"
      ],
      "execution_count": 0,
      "outputs": []
    },
    {
      "cell_type": "code",
      "metadata": {
        "id": "16JU_REXSuRq",
        "colab_type": "code",
        "colab": {}
      },
      "source": [
        "x  = np.load('/content/drive/My Drive/Unet_correctness/dataset/image_train.npz')\n",
        "y = np.load('/content/drive/My Drive/Unet_correctness/dataset/label_train.npz')\n",
        "x = x['image_train']\n",
        "y = y['label_train']"
      ],
      "execution_count": 0,
      "outputs": []
    },
    {
      "cell_type": "code",
      "metadata": {
        "id": "hKWQgP7RSwiD",
        "colab_type": "code",
        "colab": {}
      },
      "source": [
        "x_256 = iaa.Resize((256,256))(images = (x * 255).astype('uint8'))\n",
        "y_256 = iaa.Resize((256,256))(images = y)\n",
        "x_256 = x_256/255\n",
        "gamma = iaa.GammaContrast(1.25)(images = x_256)\n",
        "log = iaa.LogContrast(0.9)(images = x_256)\n",
        "sigmoid = iaa.SigmoidContrast(4)(images = x_256)\n",
        "big_x = np.vstack([x_256,gamma,log,sigmoid])\n",
        "big_y = np.vstack([y_256,  y_256   , y_256     ,y_256])"
      ],
      "execution_count": 0,
      "outputs": []
    },
    {
      "cell_type": "code",
      "metadata": {
        "id": "9SJZbLbhDSK1",
        "colab_type": "code",
        "colab": {}
      },
      "source": [
        "x_train, x_test, y_train, y_test = train_test_split(big_x, big_y, test_size = 0.2, random_state = 103)\n",
        "x_train = np.reshape(x_train,(307,256,256,1))\n",
        "x_test = np.reshape(x_test,(77,256,256,1))\n",
        "y_train = np.reshape(y_train,(307,256,256,1))\n",
        "y_test = np.reshape(y_test,(77,256,256,1))"
      ],
      "execution_count": 0,
      "outputs": []
    },
    {
      "cell_type": "code",
      "metadata": {
        "id": "OBTvAH0m01Au",
        "colab_type": "code",
        "colab": {}
      },
      "source": [
        "def generator(input_shape):\n",
        "  \n",
        "  conv_1 = Conv2D(filters = 32,kernel_size=(3,3),strides = 1,padding = 'same',kernel_initializer='he_normal')(input_shape)\n",
        "  batch_conv1 = BatchNormalization(axis=-1, momentum=0.99, epsilon=0.001)(conv_1)\n",
        "  activate_batch_conv1 = Activation('relu')(batch_conv1)\n",
        "\n",
        "  conv_2 = Conv2D(filters = 32,kernel_size = (3,3),strides = 1,padding = 'same',kernel_initializer = 'he_normal')(activate_batch_conv1)\n",
        "  batch_conv2 = BatchNormalization(axis=-1, momentum=0.99, epsilon=0.001)(conv_2)\n",
        "  activate_batch_conv2 = Activation('relu')(batch_conv2)\n",
        "  \n",
        "  \n",
        "  ######### POOL_Start\n",
        "  pool_1 = MaxPooling2D(pool_size = (2,2),strides= (2,2))(activate_batch_conv2)\n",
        "  pool_1 = Dropout(0.025)(pool_1)  \n",
        "  ######### Pool_End\n",
        "  \n",
        "  \n",
        "  conv_3 = Conv2D(filters = 64,kernel_size = (3,3),strides = 1,padding = 'same',kernel_initializer='he_normal')(pool_1)\n",
        "  batch_conv3 = BatchNormalization(axis=-1, momentum=0.99, epsilon=0.001)(conv_3)\n",
        "  activate_batch_conv3 = Activation('relu')(batch_conv3)\n",
        "\n",
        "  conv_4 = Conv2D(filters = 64,kernel_size = (3,3),strides =1,padding = 'same',kernel_initializer='he_normal')(activate_batch_conv3)\n",
        "  batch_conv4 = BatchNormalization(axis=-1, momentum=0.99, epsilon=0.001)(conv_4)\n",
        "  activate_batch_conv4 = Activation('relu')(batch_conv4)\n",
        "  \n",
        "  \n",
        "  ######### POOL_Start\n",
        "  pool_2 = MaxPooling2D(pool_size = (2,2),strides= (2,2))(activate_batch_conv4)\n",
        "  pool_2 = Dropout(0.025)(pool_2)  \n",
        "  ######### POOL_End\n",
        "  \n",
        "  \n",
        "  conv_5 = Conv2D(filters = 128,kernel_size = (3,3),strides = 1,padding = 'same',kernel_initializer='he_normal')(pool_2)\n",
        "  batch_conv5 = BatchNormalization(axis=-1, momentum=0.99, epsilon=0.001)(conv_5)\n",
        "  activate_batch_conv5 = Activation('relu')(batch_conv5)\n",
        "\n",
        "  conv_6 = Conv2D(filters = 128,kernel_size = (3,3),strides = 1,padding = 'same',kernel_initializer='he_normal')(activate_batch_conv5)\n",
        "  batch_conv6 = BatchNormalization(axis=-1, momentum=0.99, epsilon=0.001)(conv_6)\n",
        "  activate_batch_conv6 = Activation('relu')(batch_conv6)\n",
        "  \n",
        "  \n",
        "  ######### POOL_Start\n",
        "  pool_3 = MaxPooling2D(pool_size = (2,2),strides= (2,2))(activate_batch_conv6)\n",
        "  pool_3 = Dropout(0.025)(pool_3)\n",
        "  ######### POOL_End\n",
        "  \n",
        "  \n",
        "  conv_7 = Conv2D(filters = 256,kernel_size = (3,3),strides = 1,padding = 'same',kernel_initializer='he_normal')(pool_3)\n",
        "  batch_conv7 = BatchNormalization(axis=-1, momentum=0.99, epsilon=0.001)(conv_7)\n",
        "  activate_batch_conv7 = Activation('relu')(batch_conv7)\n",
        "\n",
        "  conv_8 = Conv2D(filters = 256,kernel_size = (3,3),strides = 1,padding = 'same',kernel_initializer='he_normal')(activate_batch_conv7)\n",
        "  batch_conv8 = BatchNormalization(axis=-1, momentum=0.99, epsilon=0.001)(conv_8)\n",
        "  activate_batch_conv8 = Activation('relu')(batch_conv8)\n",
        "  \n",
        "  \n",
        "  #########  POOL\n",
        "  pool_4 = MaxPooling2D(pool_size = (2,2),strides= (2,2))(activate_batch_conv8)\n",
        "  pool_4 = Dropout(0.025)(pool_4)\n",
        "  #########  POOL\n",
        "  \n",
        "  \n",
        "  conv_9 = Conv2D(filters = 512,kernel_size = (3,3),strides = 1,padding = 'same',kernel_initializer='he_normal')(pool_4)\n",
        "  batch_conv9 = BatchNormalization(axis=-1, momentum=0.99, epsilon=0.001)(conv_9)\n",
        "  activate_batch_conv9 = Activation('relu')(batch_conv9)\n",
        "\n",
        "  conv_10 = Conv2D(filters = 512,kernel_size = (3,3),strides = 1,padding = 'same',kernel_initializer='he_normal')(activate_batch_conv9)\n",
        "  batch_conv10 = BatchNormalization(axis=-1, momentum=0.99, epsilon=0.001)(conv_10)\n",
        "  activate_batch_conv10 = Activation('relu')(batch_conv10)\n",
        "  \n",
        "  \n",
        "  ################Upsample-1 Start\n",
        "  \n",
        "  up1 = UpSampling2D(size = (2,2),interpolation = 'bilinear')(activate_batch_conv10)\n",
        "  up1_conv = Conv2D(filters = 256,kernel_size = (3,3),strides = 1,padding = 'same',kernel_initializer='he_normal')(up1)\n",
        "  merge_up1 = concatenate([activate_batch_conv8,up1_conv])\n",
        "  drop_up1 = Dropout(0.025)(merge_up1)\n",
        "  \n",
        "  conv_11 = Conv2D(filters = 256,kernel_size = (3,3),strides = 1,padding = 'same',kernel_initializer='he_normal')(drop_up1)\n",
        "  batch_conv11 = BatchNormalization(axis=-1, momentum=0.99, epsilon=0.001)(conv_11)\n",
        "  activate_batch_conv11 = Activation('relu')(batch_conv11)\n",
        "  \n",
        "  conv_12 = Conv2D(filters = 256,kernel_size = (3,3),strides = 1,padding = 'same',kernel_initializer='he_normal')(activate_batch_conv11)\n",
        "  batch_conv12 = BatchNormalization(axis=-1, momentum=0.99, epsilon=0.001)(conv_12)\n",
        "  activate_batch_conv12 = Activation('relu')(batch_conv12)\n",
        "  \n",
        "  ################Upsample-1 End\n",
        "  \n",
        "  \n",
        "  ################Upsample-2 Start\n",
        "  \n",
        "  up2 = UpSampling2D(size = (2,2),interpolation = 'bilinear')(activate_batch_conv12)\n",
        "  up2_conv = Conv2D(filters = 128,kernel_size = (3,3),strides = 1,padding = 'same',kernel_initializer='he_normal')(up2)\n",
        "  merge_up2 = concatenate([activate_batch_conv6,up2_conv])\n",
        "  drop_up2 = Dropout(0.025)(merge_up2)\n",
        "  \n",
        "  conv_13 = Conv2D(filters = 128,kernel_size = (3,3),strides = 1,padding = 'same',kernel_initializer='he_normal')(drop_up2)\n",
        "  batch_conv13 = BatchNormalization(axis=-1, momentum=0.99, epsilon=0.001)(conv_13)\n",
        "  activate_batch_conv13 = Activation('relu')(batch_conv13)\n",
        "  \n",
        "  conv_14 = Conv2D(filters = 128,kernel_size = (3,3),strides = 1,padding = 'same',kernel_initializer='he_normal')(activate_batch_conv13)\n",
        "  batch_conv14 = BatchNormalization(axis=-1, momentum=0.99, epsilon=0.001)(conv_14)\n",
        "  activate_batch_conv14 = Activation('relu')(batch_conv14)\n",
        "  \n",
        "  ################Upsample-2 End\n",
        "  \n",
        "  \n",
        "  ################Upsample-3 Start\n",
        "  \n",
        "  up3 = UpSampling2D(size = (2,2),interpolation = 'bilinear')(activate_batch_conv14)\n",
        "  up3_conv = Conv2D(filters = 64,kernel_size = (3,3),strides = 1,padding = 'same',kernel_initializer='he_normal')(up3)\n",
        "  merge_up3 = concatenate([activate_batch_conv4,up3_conv])\n",
        "  drop_up3 = Dropout(0.025)(merge_up3)\n",
        "  \n",
        "  conv_15 = Conv2D(filters = 64,kernel_size = (3,3),strides = 1,padding = 'same',kernel_initializer='he_normal')(drop_up3)\n",
        "  batch_conv15 = BatchNormalization(axis=-1, momentum=0.99, epsilon=0.001)(conv_15)\n",
        "  activate_batch_conv15 = Activation('relu')(batch_conv15)\n",
        "  \n",
        "  conv_16 = Conv2D(filters = 64,kernel_size = (3,3),strides = 1,padding = 'same',kernel_initializer='he_normal')(activate_batch_conv15)\n",
        "  batch_conv16 = BatchNormalization(axis=-1, momentum=0.99, epsilon=0.001)(conv_16)\n",
        "  activate_batch_conv16 = Activation('relu')(batch_conv16)\n",
        "\n",
        "  ################Upsample-3 End\n",
        "  \n",
        "  \n",
        "  ################Upsample-4 Start\n",
        "  \n",
        "  up4 = UpSampling2D(size = (2,2),interpolation = 'bilinear')(activate_batch_conv16)\n",
        "  up4_conv = Conv2D(filters = 32,kernel_size = (3,3),strides = 1,padding = 'same',kernel_initializer='he_normal')(up4)\n",
        "  merge_up4 = concatenate([activate_batch_conv2,up4_conv])\n",
        "  drop_up4 = Dropout(0.025)(merge_up4)\n",
        "  \n",
        "  conv_17 = Conv2D(filters = 32,kernel_size = (3,3),strides = 1,padding = 'same',kernel_initializer='he_normal')(drop_up4)\n",
        "  batch_conv17 = BatchNormalization(axis=-1, momentum=0.99, epsilon=0.001)(conv_17)\n",
        "  activate_batch_conv17 = Activation('relu')(batch_conv17)\n",
        "  \n",
        "  conv_18 = Conv2D(filters = 32,kernel_size = (3,3),strides = 1,padding = 'same',kernel_initializer='he_normal')(activate_batch_conv17)\n",
        "  batch_conv18 = BatchNormalization(axis=-1, momentum=0.99, epsilon=0.001)(conv_18)\n",
        "  activate_batch_conv18 = Activation('relu')(batch_conv18)\n",
        "  \n",
        "  conv_19 = Conv2D(filters = 2,kernel_size = (3,3),strides = 1,activation = 'relu',padding = 'same',kernel_initializer='he_normal')(activate_batch_conv18)\n",
        "  conv_20 = Conv2D(filters = 1,kernel_size = (1,1),strides = 1,activation = 'sigmoid',padding = 'same',kernel_initializer='he_normal')(conv_19)\n",
        "\n",
        "  ################Upsample-4 End\n",
        "  model_gen = Model(input = [input_shape], output =[conv_20])\n",
        "  return model_gen"
      ],
      "execution_count": 0,
      "outputs": []
    },
    {
      "cell_type": "code",
      "metadata": {
        "id": "4uiKH4pS04LW",
        "colab_type": "code",
        "colab": {}
      },
      "source": [
        "def discriminator(input_img_shape):\n",
        "  input_img = Input(input_img_shape)\n",
        "  image_from_gen_or_label = Input(input_img_shape)\n",
        "  mix = concatenate([input_img,image_from_gen_or_label])\n",
        "  \n",
        "  disc_conv1 = Conv2D(filters = 64,kernel_size=(3,3),strides = 1,padding='same',kernel_initializer='he_normal')(mix)\n",
        "  disc_conv1_leaky = LeakyReLU(alpha=0.2)(disc_conv1)\n",
        "  \n",
        "  \n",
        "  disc_conv2 = Conv2D(filters = 128,kernel_size=(3,3),strides = 1,padding='same',kernel_initializer='he_normal')(disc_conv1_leaky)\n",
        "  disc_conv2_batch = BatchNormalization()(disc_conv2)\n",
        "  disc_conv2_leaky = LeakyReLU(alpha=0.2)(disc_conv2_batch)\n",
        "  \n",
        "  \n",
        "  \n",
        "  disc_conv3 = Conv2D(filters = 256,kernel_size=(3,3),strides = 1,padding='same',kernel_initializer='he_normal')(disc_conv2_leaky)\n",
        "  disc_conv3_batch = BatchNormalization()(disc_conv3)\n",
        "  disc_conv3_leaky = LeakyReLU(alpha=0.2)(disc_conv3_batch)\n",
        "  \n",
        "  \n",
        "  \n",
        "  disc_conv4 = Conv2D(filters = 512,kernel_size=(3,3),strides = 1,padding='same',kernel_initializer='he_normal')(disc_conv3_leaky)\n",
        "  disc_conv4_batch = BatchNormalization()(disc_conv4)\n",
        "  disc_conv4_leaky = LeakyReLU(alpha=0.2)(disc_conv4_batch)\n",
        "  \n",
        "  disc_conv_5 = Conv2D(filters = 1,kernel_size = (1,1),strides = 1,activation = 'sigmoid',padding = 'same',kernel_initializer='he_normal')(disc_conv4_leaky)\n",
        "  \n",
        "  model_disc = Model(input = [input_img,image_from_gen_or_label],output = [disc_conv_5])\n",
        "  return model_disc"
      ],
      "execution_count": 0,
      "outputs": []
    },
    {
      "cell_type": "code",
      "metadata": {
        "id": "4BW6nn0nE3HK",
        "colab_type": "code",
        "colab": {}
      },
      "source": [
        "def gan(generator_model, discriminator_model):\n",
        "  discriminator_model.trainable = False\n",
        "  input_img = Input((256,256,1))\n",
        "  \n",
        "  g = generator_model(input_img)\n",
        "  d = discriminator_model([input_img, g])\n",
        "  \n",
        "  model_gan = Model(input_img, [d, g])\n",
        " \n",
        "  return model_gan"
      ],
      "execution_count": 0,
      "outputs": []
    },
    {
      "cell_type": "code",
      "metadata": {
        "id": "bpSkh1dR-xa1",
        "colab_type": "code",
        "colab": {}
      },
      "source": [
        "def select_real_fake(generator,X_train,y_train,n_samples):\n",
        "  index = np.random.randint(0, X_train.shape[0], n_samples)\n",
        "   \n",
        "  index = np.random.randint(0, X_train.shape[0], n_samples)\n",
        "  X_A,X_B = X_train[index],y_train[index]\n",
        "  y_1 = np.ones((n_samples,256,256,1))\n",
        "  \n",
        "  X_C = generator.predict(X_A)    #predict\n",
        "  y_2 = np.zeros((n_samples,256,256,1)) \n",
        "  \n",
        "  \n",
        "  return [X_A , X_B] , y_1 , X_C , y_2"
      ],
      "execution_count": 0,
      "outputs": []
    },
    {
      "cell_type": "code",
      "metadata": {
        "id": "YX8sm3u-CTI1",
        "colab_type": "code",
        "colab": {}
      },
      "source": [
        "def train_model(generator,discriminator,gan_new,X_train,y_train,batch,epoch):\n",
        "  iterations = int(X_train.shape[0] / batch)\n",
        "  cust = Adam(lr=0.0004, beta_1=0.5)\n",
        "  discriminator.compile(loss='binary_crossentropy', optimizer=cust, metrics=['accuracy'])\n",
        "  gan_new.compile(loss=['binary_crossentropy','binary_crossentropy'],optimizer = Adam(lr=0.0002, beta_1=0.5))\n",
        "  beat = 0\n",
        "  for i in range(epoch):\n",
        "    for j in range(iterations):\n",
        "      \n",
        "      [X_real1,X_real2],y_real,X_fake,y_fake = select_real_fake(generator,X_train,y_train,batch)\n",
        "      #print(X_real1.shape,X_real2.shape)\n",
        "      discriminator.trainable = True\n",
        "      #print(y_real.shape)\n",
        "      discriminator.train_on_batch([X_real1,X_real2],y_real)\n",
        "      d_loss = discriminator.train_on_batch([X_real1,X_fake],y_fake)\n",
        "      discriminator.trainable = False\n",
        "      gan_loss,_,_ = gan_new.train_on_batch(X_real1, [y_real, X_real2])\n",
        "      \n",
        "    print(d_loss,gan_loss)\n",
        "    iou_list = []\n",
        "    for kl in range(x_test.shape[0]):\n",
        "      jk = generator.predict(x_test[kl].reshape(1,256,256,1))\n",
        "      img = jk.copy()\n",
        "      img[jk< 0.1] = 0\n",
        "      img[jk >= 0.1] = 1\n",
        "      intersection = np.logical_and(img.reshape(256,256), y_test[kl].reshape(256,256))\n",
        "      union = np.logical_or(img.reshape(256,256), y_test[kl].reshape(256,256))\n",
        "      iou_score = np.sum(intersection) / np.sum(union)\n",
        "      iou_list.append(iou_score)\n",
        "    #if(beat % 5 == 0):\n",
        "    #  generator.save('gen_'+str(beat)+'.h5')\n",
        "    #beat = beat+1\n",
        "    print('%d epoch iou is %f: '%(i+1,np.mean(iou_list)))\n",
        "  return generator"
      ],
      "execution_count": 0,
      "outputs": []
    },
    {
      "cell_type": "code",
      "metadata": {
        "id": "j4qii6g5Pcen",
        "colab_type": "code",
        "colab": {}
      },
      "source": [
        ""
      ],
      "execution_count": 0,
      "outputs": []
    },
    {
      "cell_type": "code",
      "metadata": {
        "id": "pvzTwwqpUL02",
        "colab_type": "code",
        "outputId": "871146a1-9663-4cad-8b2b-9eec1360afe5",
        "colab": {
          "base_uri": "https://localhost:8080/",
          "height": 74
        }
      },
      "source": [
        "gf = generator((Input((256,256,1))))\n",
        "df = discriminator((256,256,1))\n",
        "ganf = gan(gf,df)\n"
      ],
      "execution_count": 12,
      "outputs": [
        {
          "output_type": "stream",
          "text": [
            "/usr/local/lib/python3.6/dist-packages/ipykernel_launcher.py:145: UserWarning: Update your `Model` call to the Keras 2 API: `Model(inputs=[<tf.Tenso..., outputs=[<tf.Tenso...)`\n",
            "/usr/local/lib/python3.6/dist-packages/ipykernel_launcher.py:28: UserWarning: Update your `Model` call to the Keras 2 API: `Model(inputs=[<tf.Tenso..., outputs=[<tf.Tenso...)`\n"
          ],
          "name": "stderr"
        }
      ]
    },
    {
      "cell_type": "code",
      "metadata": {
        "id": "GAlfbAjVpIK3",
        "colab_type": "code",
        "outputId": "a534f3c1-684c-4c65-e18b-e337b9aa6cc7",
        "colab": {
          "base_uri": "https://localhost:8080/",
          "height": 1000
        }
      },
      "source": [
        "my_model = train_model(gf, df, ganf,x_train,y_train,8,100)"
      ],
      "execution_count": 13,
      "outputs": [
        {
          "output_type": "stream",
          "text": [
            "WARNING:tensorflow:From /usr/local/lib/python3.6/dist-packages/keras/optimizers.py:793: The name tf.train.Optimizer is deprecated. Please use tf.compat.v1.train.Optimizer instead.\n",
            "\n",
            "WARNING:tensorflow:From /usr/local/lib/python3.6/dist-packages/keras/backend/tensorflow_backend.py:3657: The name tf.log is deprecated. Please use tf.math.log instead.\n",
            "\n",
            "WARNING:tensorflow:From /usr/local/lib/python3.6/dist-packages/tensorflow_core/python/ops/nn_impl.py:183: where (from tensorflow.python.ops.array_ops) is deprecated and will be removed in a future version.\n",
            "Instructions for updating:\n",
            "Use tf.where in 2.0, which has the same broadcast rule as np.where\n",
            "WARNING:tensorflow:From /usr/local/lib/python3.6/dist-packages/keras/backend/tensorflow_backend.py:1033: The name tf.assign_add is deprecated. Please use tf.compat.v1.assign_add instead.\n",
            "\n"
          ],
          "name": "stdout"
        },
        {
          "output_type": "stream",
          "text": [
            "/usr/local/lib/python3.6/dist-packages/keras/engine/training.py:493: UserWarning: Discrepancy between trainable weights and collected trainable weights, did you set `model.trainable` without calling `model.compile` after ?\n",
            "  'Discrepancy between trainable weights and collected trainable'\n"
          ],
          "name": "stderr"
        },
        {
          "output_type": "stream",
          "text": [
            "WARNING:tensorflow:From /usr/local/lib/python3.6/dist-packages/keras/backend/tensorflow_backend.py:1020: The name tf.assign is deprecated. Please use tf.compat.v1.assign instead.\n",
            "\n",
            "[0.5844213, 0.69119644] 1.3948288\n",
            "1 epoch iou is 0.764927: \n",
            "[0.5913405, 0.6779442] 1.296766\n",
            "2 epoch iou is 0.774048: \n",
            "[0.593053, 0.67739296] 1.2439326\n",
            "3 epoch iou is 0.766225: \n",
            "[0.5929569, 0.6774063] 1.2045684\n",
            "4 epoch iou is 0.783690: \n",
            "[0.59557176, 0.6712589] 1.1988472\n",
            "5 epoch iou is 0.789277: \n",
            "[0.59546006, 0.67214394] 1.1706018\n",
            "6 epoch iou is 0.818584: \n",
            "[0.5991846, 0.6663151] 1.1663992\n",
            "7 epoch iou is 0.825748: \n",
            "[0.5995303, 0.6709137] 1.1456051\n",
            "8 epoch iou is 0.820231: \n",
            "[0.5994672, 0.66685295] 1.1504279\n",
            "9 epoch iou is 0.849520: \n",
            "[0.60148287, 0.6622505] 1.1309309\n",
            "10 epoch iou is 0.855597: \n",
            "[0.60055524, 0.66407967] 1.136807\n",
            "11 epoch iou is 0.840196: \n",
            "[0.6020496, 0.6645813] 1.1208034\n",
            "12 epoch iou is 0.878448: \n",
            "[0.6020497, 0.66423607] 1.1258131\n",
            "13 epoch iou is 0.846822: \n",
            "[0.60196555, 0.6652756] 1.11573\n",
            "14 epoch iou is 0.867135: \n",
            "[0.60237974, 0.6634178] 1.115667\n",
            "15 epoch iou is 0.865448: \n",
            "[0.6041182, 0.66044426] 1.1195621\n",
            "16 epoch iou is 0.864018: \n",
            "[0.60325336, 0.6621895] 1.1091342\n",
            "17 epoch iou is 0.871703: \n",
            "[0.60462177, 0.659359] 1.1089567\n",
            "18 epoch iou is 0.872556: \n",
            "[0.60674983, 0.65810204] 1.105612\n",
            "19 epoch iou is 0.881217: \n",
            "[0.60498405, 0.6604996] 1.1055967\n",
            "20 epoch iou is 0.871519: \n",
            "[0.6059557, 0.6593876] 1.1067373\n",
            "21 epoch iou is 0.879215: \n",
            "[0.6047847, 0.6621952] 1.0947889\n",
            "22 epoch iou is 0.880812: \n",
            "[0.60540885, 0.6616039] 1.0997071\n",
            "23 epoch iou is 0.888935: \n",
            "[0.6052387, 0.66124535] 1.1049038\n",
            "24 epoch iou is 0.878094: \n",
            "[0.60736454, 0.65530396] 1.0997076\n",
            "25 epoch iou is 0.888320: \n",
            "[0.60928863, 0.6493263] 1.100797\n",
            "26 epoch iou is 0.890461: \n",
            "[0.60616225, 0.6626148] 1.0965048\n",
            "27 epoch iou is 0.887281: \n",
            "[0.609172, 0.65462303] 1.0929949\n",
            "28 epoch iou is 0.887777: \n",
            "[0.60414815, 0.664093] 1.0902703\n",
            "29 epoch iou is 0.892814: \n",
            "[0.60527295, 0.66191673] 1.0856068\n",
            "30 epoch iou is 0.897631: \n",
            "[0.6086881, 0.65597725] 1.0913004\n",
            "31 epoch iou is 0.895168: \n",
            "[0.6066327, 0.65880775] 1.0913802\n",
            "32 epoch iou is 0.887340: \n",
            "[0.6062777, 0.66125107] 1.0915864\n",
            "33 epoch iou is 0.895653: \n",
            "[0.608196, 0.6587219] 1.0777413\n",
            "34 epoch iou is 0.898922: \n",
            "[0.6078494, 0.66108894] 1.0877856\n",
            "35 epoch iou is 0.898379: \n",
            "[0.6081608, 0.66148186] 1.0778322\n",
            "36 epoch iou is 0.891316: \n",
            "[0.60789883, 0.66067314] 1.0923096\n",
            "37 epoch iou is 0.897497: \n",
            "[0.60902053, 0.6541729] 1.0895401\n",
            "38 epoch iou is 0.896643: \n",
            "[0.60800207, 0.65898323] 1.0806115\n",
            "39 epoch iou is 0.893171: \n",
            "[0.6070608, 0.65901375] 1.0893786\n",
            "40 epoch iou is 0.901421: \n",
            "[0.6091598, 0.6609421] 1.0767412\n",
            "41 epoch iou is 0.898018: \n",
            "[0.60974634, 0.6583042] 1.0772359\n",
            "42 epoch iou is 0.909159: \n",
            "[0.6085367, 0.6586704] 1.0788984\n",
            "43 epoch iou is 0.901003: \n",
            "[0.6100116, 0.65426636] 1.0796089\n",
            "44 epoch iou is 0.905809: \n",
            "[0.60866463, 0.6593094] 1.070087\n",
            "45 epoch iou is 0.899846: \n",
            "[0.6082071, 0.6628723] 1.0696775\n",
            "46 epoch iou is 0.909457: \n",
            "[0.60943097, 0.659811] 1.0751487\n",
            "47 epoch iou is 0.907482: \n",
            "[0.6092596, 0.6639404] 1.0659244\n",
            "48 epoch iou is 0.908153: \n",
            "[0.6096698, 0.6582756] 1.0747299\n",
            "49 epoch iou is 0.908748: \n",
            "[0.6089099, 0.6605587] 1.074979\n",
            "50 epoch iou is 0.907045: \n",
            "[0.6092092, 0.6588001] 1.0677357\n",
            "51 epoch iou is 0.906676: \n",
            "[0.6097793, 0.6616478] 1.069689\n",
            "52 epoch iou is 0.908730: \n",
            "[0.6103959, 0.661396] 1.0717524\n",
            "53 epoch iou is 0.910876: \n",
            "[0.6104621, 0.6603584] 1.0699558\n",
            "54 epoch iou is 0.910417: \n",
            "[0.61396086, 0.65057373] 1.0785888\n",
            "55 epoch iou is 0.907170: \n",
            "[0.6112845, 0.656229] 1.0758588\n",
            "56 epoch iou is 0.911276: \n",
            "[0.6099332, 0.66125107] 1.0706861\n",
            "57 epoch iou is 0.915543: \n",
            "[0.6124586, 0.6514034] 1.0823423\n",
            "58 epoch iou is 0.916364: \n",
            "[0.6100511, 0.660532] 1.0654277\n",
            "59 epoch iou is 0.916115: \n",
            "[0.60940707, 0.66026497] 1.0652864\n",
            "60 epoch iou is 0.921941: \n",
            "[0.6095235, 0.6613331] 1.0667037\n",
            "61 epoch iou is 0.914022: \n",
            "[0.612854, 0.653841] 1.0692278\n",
            "62 epoch iou is 0.914609: \n",
            "[0.61132336, 0.6599655] 1.0662693\n",
            "63 epoch iou is 0.922151: \n",
            "[0.6097187, 0.66428566] 1.060302\n",
            "64 epoch iou is 0.917245: \n",
            "[0.60922116, 0.66340256] 1.066096\n",
            "65 epoch iou is 0.912391: \n",
            "[0.6090428, 0.66368294] 1.0670931\n",
            "66 epoch iou is 0.911516: \n",
            "[0.61052394, 0.66060257] 1.0632513\n",
            "67 epoch iou is 0.918651: \n",
            "[0.6094308, 0.66562843] 1.0594782\n",
            "68 epoch iou is 0.918093: \n",
            "[0.61176825, 0.6599617] 1.055887\n",
            "69 epoch iou is 0.920278: \n",
            "[0.61044466, 0.66145897] 1.0612811\n",
            "70 epoch iou is 0.919705: \n",
            "[0.61053675, 0.6634941] 1.0649428\n",
            "71 epoch iou is 0.924001: \n",
            "[0.6120305, 0.6581497] 1.0617782\n",
            "72 epoch iou is 0.916858: \n",
            "[0.61148024, 0.6596508] 1.0620267\n",
            "73 epoch iou is 0.926218: \n",
            "[0.61193126, 0.66038704] 1.0601077\n",
            "74 epoch iou is 0.925725: \n",
            "[0.6117689, 0.66249657] 1.0565082\n",
            "75 epoch iou is 0.928872: \n",
            "[0.6102234, 0.66321564] 1.0523081\n",
            "76 epoch iou is 0.928089: \n",
            "[0.61553466, 0.6523113] 1.0704052\n",
            "77 epoch iou is 0.913550: \n",
            "[0.61066884, 0.6614704] 1.0620973\n",
            "78 epoch iou is 0.925913: \n",
            "[0.6118366, 0.65810585] 1.0586305\n",
            "79 epoch iou is 0.924223: \n",
            "[0.6122563, 0.66192245] 1.0628982\n",
            "80 epoch iou is 0.926344: \n",
            "[0.611284, 0.6619568] 1.0552952\n",
            "81 epoch iou is 0.926401: \n",
            "[0.6151296, 0.65525055] 1.063087\n",
            "82 epoch iou is 0.929949: \n",
            "[0.6124356, 0.6600952] 1.0547684\n",
            "83 epoch iou is 0.926593: \n",
            "[0.61508715, 0.65026283] 1.0614343\n",
            "84 epoch iou is 0.922988: \n",
            "[0.61053574, 0.66628265] 1.0527066\n",
            "85 epoch iou is 0.929211: \n",
            "[0.61226106, 0.6616745] 1.0545743\n",
            "86 epoch iou is 0.926969: \n",
            "[0.61323005, 0.6613598] 1.0560414\n",
            "87 epoch iou is 0.927295: \n",
            "[0.6116937, 0.66235924] 1.0586294\n",
            "88 epoch iou is 0.923439: \n",
            "[0.6099423, 0.66498756] 1.0463809\n",
            "89 epoch iou is 0.936337: \n",
            "[0.61280423, 0.6581917] 1.056426\n",
            "90 epoch iou is 0.930158: \n",
            "[0.6129137, 0.662199] 1.0561061\n",
            "91 epoch iou is 0.926815: \n",
            "[0.61399186, 0.65784454] 1.0542551\n",
            "92 epoch iou is 0.924389: \n",
            "[0.6120637, 0.6628418] 1.0525724\n",
            "93 epoch iou is 0.927555: \n",
            "[0.61300445, 0.66375923] 1.0496725\n",
            "94 epoch iou is 0.933214: \n",
            "[0.6150033, 0.6613369] 1.0508869\n",
            "95 epoch iou is 0.936115: \n",
            "[0.6141474, 0.6596012] 1.0519279\n",
            "96 epoch iou is 0.932727: \n",
            "[0.6135498, 0.65971756] 1.0537515\n",
            "97 epoch iou is 0.933558: \n",
            "[0.6139574, 0.6588936] 1.0604761\n",
            "98 epoch iou is 0.934733: \n",
            "[0.6129199, 0.6614971] 1.0481223\n",
            "99 epoch iou is 0.938044: \n",
            "[0.6146834, 0.656023] 1.0558822\n",
            "100 epoch iou is 0.931073: \n"
          ],
          "name": "stdout"
        }
      ]
    },
    {
      "cell_type": "code",
      "metadata": {
        "id": "rsKtwl7bRqHr",
        "colab_type": "code",
        "colab": {
          "base_uri": "https://localhost:8080/",
          "height": 323
        },
        "outputId": "54674954-90db-40c8-df21-f4759c77b0a9"
      },
      "source": [
        "test_x = my_model.predict(x_test[55].reshape(1,256,256,1))\n",
        "\n",
        "test_x_thresh = test_x.copy()\n",
        "test_x_thresh[test_x >= 0.1] = 1\n",
        "test_x_thresh[test_x < 0.1] = 0\n",
        "\n",
        "fig, ax = plt.subplots(1, 2, figsize=(10, 5))\n",
        "ax[0].imshow(y_test[55].reshape(256,256)) #actual\n",
        "ax[1].imshow(test_x_thresh.reshape(256,256))     #predicted"
      ],
      "execution_count": 20,
      "outputs": [
        {
          "output_type": "execute_result",
          "data": {
            "text/plain": [
              "<matplotlib.image.AxesImage at 0x7f67cab92da0>"
            ]
          },
          "metadata": {
            "tags": []
          },
          "execution_count": 20
        },
        {
          "output_type": "display_data",
          "data": {
            "image/png": "[encoded data removed]",
            "text/plain": [
              "<Figure size 720x360 with 2 Axes>"
            ]
          },
          "metadata": {
            "tags": []
          }
        }
      ]
    },
    {
      "cell_type": "code",
      "metadata": {
        "id": "hBB0yBTvo0Z8",
        "colab_type": "code",
        "colab": {}
      },
      "source": [
        "def calc_iou(real,pred):\n",
        "  num = np.logical_and(real,pred)\n",
        "  den = np.logical_or(real,pred)\n",
        "  \n",
        "  return np.sum(num) / np.sum(den)"
      ],
      "execution_count": 0,
      "outputs": []
    },
    {
      "cell_type": "code",
      "metadata": {
        "id": "-e37ZJeKEhAl",
        "colab_type": "code",
        "colab": {}
      },
      "source": [
        "iou_train = []\n",
        "for i,j in zip(x_train,y_train):\n",
        "  \n",
        "  dummy = my_model.predict(i.reshape(1,256,256,1))\n",
        "  img = dummy.copy()\n",
        "  img[dummy< 0.1] = 0\n",
        "  img[dummy >= 0.1] = 1\n",
        "  iou_train.append(calc_iou(j.reshape(256,256),img.reshape(256,256)))"
      ],
      "execution_count": 0,
      "outputs": []
    },
    {
      "cell_type": "code",
      "metadata": {
        "id": "3IqTELfOEoRs",
        "colab_type": "code",
        "colab": {}
      },
      "source": [
        "iou_test = []\n",
        "for i,j in zip(x_test,y_test):\n",
        "  \n",
        "  dummy = my_model.predict(i.reshape(1,256,256,1))\n",
        "  img = dummy.copy()\n",
        "  img[dummy< 0.1] = 0\n",
        "  img[dummy >= 0.1] = 1\n",
        "  iou_test.append(calc_iou(j.reshape(256,256),img.reshape(256,256)))"
      ],
      "execution_count": 0,
      "outputs": []
    },
    {
      "cell_type": "code",
      "metadata": {
        "id": "cC-Dv8fjEqSG",
        "colab_type": "code",
        "colab": {
          "base_uri": "https://localhost:8080/",
          "height": 54
        },
        "outputId": "380c161f-3bc6-47bd-cce5-57858588c4fc"
      },
      "source": [
        "print(\"Mean IOU on training data %f\"%(np.mean(np.array(iou_train))))\n",
        "print(\"Mean IOU on test data %f\"%(np.mean(np.array(iou_test))))"
      ],
      "execution_count": 18,
      "outputs": [
        {
          "output_type": "stream",
          "text": [
            "Mean IOU on training data 0.936175\n",
            "Mean IOU on test data 0.931073\n"
          ],
          "name": "stdout"
        }
      ]
    },
    {
      "cell_type": "code",
      "metadata": {
        "id": "B9YmDsjg_lmg",
        "colab_type": "code",
        "colab": {}
      },
      "source": [
        ""
      ],
      "execution_count": 0,
      "outputs": []
    },
    {
      "cell_type": "code",
      "metadata": {
        "id": "g_Bjsgqon_bz",
        "colab_type": "code",
        "colab": {}
      },
      "source": [
        "my_model.save('/content/drive/My Drive/Unet_correctness/GanSegmentNew.h5')"
      ],
      "execution_count": 0,
      "outputs": []
    },
    {
      "cell_type": "code",
      "metadata": {
        "id": "hFOB236GDatv",
        "colab_type": "code",
        "colab": {}
      },
      "source": [
        ""
      ],
      "execution_count": 0,
      "outputs": []
    }
  ]
}