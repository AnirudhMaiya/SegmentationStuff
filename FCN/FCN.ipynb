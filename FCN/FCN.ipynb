{
  "nbformat": 4,
  "nbformat_minor": 0,
  "metadata": {
    "colab": {
      "name": "FCN.ipynb",
      "provenance": [],
      "collapsed_sections": []
    },
    "kernelspec": {
      "name": "python3",
      "display_name": "Python 3"
    },
    "accelerator": "GPU"
  },
  "cells": [
    {
      "cell_type": "code",
      "metadata": {
        "id": "VKMiyOZvQ8RM",
        "colab_type": "code",
        "colab": {
          "base_uri": "https://localhost:8080/",
          "height": 131
        },
        "outputId": "b05c4d49-060e-47bb-a691-2fed2dd34ce7"
      },
      "source": [
        "from google.colab import drive\n",
        "drive.mount('/content/drive')"
      ],
      "execution_count": 2,
      "outputs": [
        {
          "output_type": "stream",
          "text": [
            "Go to this URL in a browser: https://accounts.google.com/o/oauth2/auth?client_id=947318989803-6bn6qk8qdgf4n4g3pfee6491hc0brc4i.apps.googleusercontent.com&redirect_uri=urn%3aietf%3awg%3aoauth%3a2.0%3aoob&response_type=code&scope=email%20https%3a%2f%2fwww.googleapis.com%2fauth%2fdocs.test%20https%3a%2f%2fwww.googleapis.com%2fauth%2fdrive%20https%3a%2f%2fwww.googleapis.com%2fauth%2fdrive.photos.readonly%20https%3a%2f%2fwww.googleapis.com%2fauth%2fpeopleapi.readonly\n",
            "\n",
            "Enter your authorization code:\n",
            "··········\n",
            "Mounted at /content/drive\n"
          ],
          "name": "stdout"
        }
      ]
    },
    {
      "cell_type": "code",
      "metadata": {
        "id": "BQ47kvXQRHqP",
        "colab_type": "code",
        "colab": {}
      },
      "source": [
        "import numpy as np\n",
        "import matplotlib.pyplot as plt\n",
        "from sklearn.model_selection import train_test_split\n"
      ],
      "execution_count": 0,
      "outputs": []
    },
    {
      "cell_type": "code",
      "metadata": {
        "id": "A4hXznmpRYkI",
        "colab_type": "code",
        "colab": {}
      },
      "source": [
        "import imgaug as ia\n",
        "from imgaug import augmenters as iaa\n",
        "ia.seed(4)"
      ],
      "execution_count": 0,
      "outputs": []
    },
    {
      "cell_type": "code",
      "metadata": {
        "id": "HayFW2cqRZlL",
        "colab_type": "code",
        "colab": {}
      },
      "source": [
        "x  = np.load('/content/drive/My Drive/Unet_correctness/image_train.npz')\n",
        "y = np.load('/content/drive/My Drive/Unet_correctness/label_train.npz')\n",
        "x = x['image_train']\n",
        "y = y['label_train']"
      ],
      "execution_count": 0,
      "outputs": []
    },
    {
      "cell_type": "code",
      "metadata": {
        "id": "boMmk1zxRazZ",
        "colab_type": "code",
        "colab": {}
      },
      "source": [
        "x_256 = iaa.Resize((256,256))(images = (x * 255).astype('uint8'))\n",
        "y_256 = iaa.Resize((256,256))(images = y)\n",
        "x_256 = x_256/255"
      ],
      "execution_count": 0,
      "outputs": []
    },
    {
      "cell_type": "code",
      "metadata": {
        "id": "UHBqkXmWRb41",
        "colab_type": "code",
        "colab": {}
      },
      "source": [
        "gamma = iaa.GammaContrast(1.25)(images = x_256)\n",
        "log = iaa.LogContrast(0.9)(images = x_256)\n",
        "sigmoid = iaa.SigmoidContrast(4)(images = x_256)\n",
        "big_x = np.vstack([x_256,gamma,log,sigmoid])\n",
        "big_y = np.vstack([y_256,  y_256   , y_256     ,y_256])\n"
      ],
      "execution_count": 0,
      "outputs": []
    },
    {
      "cell_type": "code",
      "metadata": {
        "id": "R_5dxbNDRc9t",
        "colab_type": "code",
        "colab": {}
      },
      "source": [
        "x_train, x_test, y_train, y_test = train_test_split(big_x, big_y, test_size = 0.2, random_state = 103)"
      ],
      "execution_count": 0,
      "outputs": []
    },
    {
      "cell_type": "code",
      "metadata": {
        "id": "HmPM4n9cRePN",
        "colab_type": "code",
        "colab": {}
      },
      "source": [
        "x_train = np.reshape(x_train,(307,256,256,1))\n",
        "x_test = np.reshape(x_test,(77,256,256,1))\n",
        "y_train = np.reshape(y_train,(307,256,256,1))\n",
        "y_test = np.reshape(y_test,(77,256,256,1))"
      ],
      "execution_count": 0,
      "outputs": []
    },
    {
      "cell_type": "code",
      "metadata": {
        "id": "OE-_-u-CRgal",
        "colab_type": "code",
        "colab": {
          "base_uri": "https://localhost:8080/",
          "height": 84
        },
        "outputId": "62f1e94b-e8ff-4aba-929d-8adfd9ce1cec"
      },
      "source": [
        "from keras.layers import Conv2D,Dropout,BatchNormalization,Activation,UpSampling2D,MaxPooling2D,Input,concatenate\n",
        "from keras.optimizers import *\n",
        "from keras.losses import *\n",
        "from keras.models import Model"
      ],
      "execution_count": 10,
      "outputs": [
        {
          "output_type": "stream",
          "text": [
            "Using TensorFlow backend.\n"
          ],
          "name": "stderr"
        },
        {
          "output_type": "display_data",
          "data": {
            "text/html": [
              "<p style=\"color: red;\">\n",
              "The default version of TensorFlow in Colab will soon switch to TensorFlow 2.x.<br>\n",
              "We recommend you <a href=\"https://www.tensorflow.org/guide/migrate\" target=\"_blank\">upgrade</a> now \n",
              "or ensure your notebook will continue to use TensorFlow 1.x via the <code>%tensorflow_version 1.x</code> magic:\n",
              "<a href=\"https://colab.research.google.com/notebooks/tensorflow_version.ipynb\" target=\"_blank\">more info</a>.</p>\n"
            ],
            "text/plain": [
              "<IPython.core.display.HTML object>"
            ]
          },
          "metadata": {
            "tags": []
          }
        }
      ]
    },
    {
      "cell_type": "code",
      "metadata": {
        "id": "L162Jw-rRj_Q",
        "colab_type": "code",
        "colab": {}
      },
      "source": [
        "def satellite(input_image):\n",
        "  \n",
        "  \n",
        "  \n",
        "  conv_1 = Conv2D(filters = 16,kernel_size=(3,3),strides = (1,1),padding = 'same',kernel_initializer='he_normal')(input_img)\n",
        "  batch_conv1 = BatchNormalization(axis=-1, momentum=0.99, epsilon=0.001)(conv_1)\n",
        "  activate_batch_conv1 = Activation('relu')(batch_conv1)\n",
        "\n",
        "  conv_2 = Conv2D(filters = 32,kernel_size = (3,3),strides = (1,1),padding = 'same',kernel_initializer = 'he_normal')(activate_batch_conv1)\n",
        "  batch_conv2 = BatchNormalization(axis=-1, momentum=0.99, epsilon=0.001)(conv_2)\n",
        "  activate_batch_conv2 = Activation('relu')(batch_conv2)\n",
        "  \n",
        "  conv_3 = Conv2D(filters = 64,kernel_size = (3,3),strides = (1,1),padding = 'same',kernel_initializer='he_normal')(activate_batch_conv2)\n",
        "  batch_conv3 = BatchNormalization(axis=-1, momentum=0.99, epsilon=0.001)(conv_3)\n",
        "  activate_batch_conv3 = Activation('relu')(batch_conv3)\n",
        "  \n",
        "  conv_4 = Conv2D(filters = 128,kernel_size = (3,3),strides = (1,1),padding = 'same',kernel_initializer='he_normal')(activate_batch_conv3)\n",
        "  batch_conv4 = BatchNormalization(axis=-1, momentum=0.99, epsilon=0.001)(conv_4)\n",
        "  activate_batch_conv4 = Activation('relu')(batch_conv4)\n",
        "  \n",
        "  conv_5 = Conv2D(filters = 64,kernel_size = (3,3),strides = (1,1),padding = 'same',kernel_initializer='he_normal')(activate_batch_conv4)\n",
        "  batch_conv5 = BatchNormalization(axis=-1, momentum=0.99, epsilon=0.001)(conv_5)\n",
        "  activate_batch_conv5 = Activation('relu')(batch_conv5)\n",
        "  \n",
        "  conv_6 = Conv2D(filters = 32,kernel_size = (3,3),strides = (1,1),padding = 'same',kernel_initializer='he_normal')(activate_batch_conv5)\n",
        "  batch_conv6 = BatchNormalization(axis=-1, momentum=0.99, epsilon=0.001)(conv_6)\n",
        "  activate_batch_conv6 = Activation('relu')(batch_conv6)\n",
        "  \n",
        "  conv_7 = Conv2D(filters = 16,kernel_size = (3,3),strides = (1,1),padding = 'same',kernel_initializer='he_normal')(activate_batch_conv6)\n",
        "  batch_conv7 = BatchNormalization(axis=-1, momentum=0.99, epsilon=0.001)(conv_7)\n",
        "  activate_batch_conv7 = Activation('relu')(batch_conv7)\n",
        "  \n",
        "  conv_8 = Conv2D(filters = 4,kernel_size = (3,3),strides = (1,1),padding = 'same',kernel_initializer='he_normal')(activate_batch_conv7)\n",
        "  batch_conv8 = BatchNormalization(axis=-1, momentum=0.99, epsilon=0.001)(conv_8)\n",
        "  activate_batch_conv8 = Activation('relu')(batch_conv8)\n",
        "  \n",
        "  conv_9 = Conv2D(filters = 2,kernel_size = (3,3),strides = (1,1),padding = 'same',kernel_initializer='he_normal')(activate_batch_conv8)\n",
        "  batch_conv9 = BatchNormalization(axis=-1, momentum=0.99, epsilon=0.001)(conv_9)\n",
        "  activate_batch_conv9 = Activation('relu')(batch_conv9)\n",
        "  \n",
        "  conv_10 = Conv2D(filters = 1,kernel_size = (3,3),strides = (1,1),padding = 'same',kernel_initializer='he_normal')(activate_batch_conv9)\n",
        "  batch_conv10 = BatchNormalization(axis=-1, momentum=0.99, epsilon=0.001)(conv_10)\n",
        "  activate_batch_conv10 = Activation('sigmoid')(batch_conv10)\n",
        "  \n",
        "  model = Model(input = [input_img], output =[activate_batch_conv10])\n",
        "  return model\n",
        "  "
      ],
      "execution_count": 0,
      "outputs": []
    },
    {
      "cell_type": "code",
      "metadata": {
        "id": "Ls1lqc4VTcAt",
        "colab_type": "code",
        "colab": {
          "base_uri": "https://localhost:8080/",
          "height": 56
        },
        "outputId": "210de3ef-4ef2-4c7b-c23e-31309f6f1fcb"
      },
      "source": [
        "input_img = Input((256,256,1))\n",
        "model = satellite(input_img)\n",
        "model.compile(optimizer=Adam(), loss=\"binary_crossentropy\", metrics=[\"accuracy\"])"
      ],
      "execution_count": 21,
      "outputs": [
        {
          "output_type": "stream",
          "text": [
            "/usr/local/lib/python3.6/dist-packages/ipykernel_launcher.py:45: UserWarning: Update your `Model` call to the Keras 2 API: `Model(inputs=[<tf.Tenso..., outputs=[<tf.Tenso...)`\n"
          ],
          "name": "stderr"
        }
      ]
    },
    {
      "cell_type": "code",
      "metadata": {
        "id": "tg-QzuesTtHm",
        "colab_type": "code",
        "colab": {
          "base_uri": "https://localhost:8080/",
          "height": 1000
        },
        "outputId": "682ff289-166a-4ec4-d3d7-390bbe731bba"
      },
      "source": [
        "model.fit(x_train, y_train, batch_size=4, epochs=100,validation_data=(x_test, y_test))"
      ],
      "execution_count": 22,
      "outputs": [
        {
          "output_type": "stream",
          "text": [
            "Train on 307 samples, validate on 77 samples\n",
            "Epoch 1/100\n",
            "307/307 [==============================] - 9s 29ms/step - loss: 0.4915 - acc: 0.8343 - val_loss: 0.4545 - val_acc: 0.8686\n",
            "Epoch 2/100\n",
            "307/307 [==============================] - 6s 20ms/step - loss: 0.4327 - acc: 0.8684 - val_loss: 0.4391 - val_acc: 0.8614\n",
            "Epoch 3/100\n",
            "307/307 [==============================] - 6s 20ms/step - loss: 0.4043 - acc: 0.8791 - val_loss: 0.3959 - val_acc: 0.8844\n",
            "Epoch 4/100\n",
            "307/307 [==============================] - 6s 20ms/step - loss: 0.3813 - acc: 0.8859 - val_loss: 0.3725 - val_acc: 0.8901\n",
            "Epoch 5/100\n",
            "307/307 [==============================] - 6s 20ms/step - loss: 0.3607 - acc: 0.8917 - val_loss: 0.3524 - val_acc: 0.8905\n",
            "Epoch 6/100\n",
            "307/307 [==============================] - 6s 20ms/step - loss: 0.3445 - acc: 0.8945 - val_loss: 0.3365 - val_acc: 0.8936\n",
            "Epoch 7/100\n",
            "307/307 [==============================] - 6s 20ms/step - loss: 0.3299 - acc: 0.8971 - val_loss: 0.3299 - val_acc: 0.8899\n",
            "Epoch 8/100\n",
            "307/307 [==============================] - 6s 20ms/step - loss: 0.3163 - acc: 0.8999 - val_loss: 0.3174 - val_acc: 0.8964\n",
            "Epoch 9/100\n",
            "307/307 [==============================] - 6s 20ms/step - loss: 0.3056 - acc: 0.9015 - val_loss: 0.3114 - val_acc: 0.8944\n",
            "Epoch 10/100\n",
            "307/307 [==============================] - 6s 20ms/step - loss: 0.2949 - acc: 0.9032 - val_loss: 0.2997 - val_acc: 0.8958\n",
            "Epoch 11/100\n",
            "307/307 [==============================] - 6s 20ms/step - loss: 0.2862 - acc: 0.9043 - val_loss: 0.2902 - val_acc: 0.8977\n",
            "Epoch 12/100\n",
            "307/307 [==============================] - 6s 20ms/step - loss: 0.2766 - acc: 0.9066 - val_loss: 0.3122 - val_acc: 0.8806\n",
            "Epoch 13/100\n",
            "307/307 [==============================] - 6s 20ms/step - loss: 0.2703 - acc: 0.9070 - val_loss: 0.2759 - val_acc: 0.9013\n",
            "Epoch 14/100\n",
            "307/307 [==============================] - 6s 20ms/step - loss: 0.2615 - acc: 0.9094 - val_loss: 0.2698 - val_acc: 0.9013\n",
            "Epoch 15/100\n",
            "307/307 [==============================] - 6s 20ms/step - loss: 0.2543 - acc: 0.9112 - val_loss: 0.2643 - val_acc: 0.9044\n",
            "Epoch 16/100\n",
            "307/307 [==============================] - 6s 20ms/step - loss: 0.2486 - acc: 0.9121 - val_loss: 0.2567 - val_acc: 0.9056\n",
            "Epoch 17/100\n",
            "307/307 [==============================] - 6s 20ms/step - loss: 0.2399 - acc: 0.9152 - val_loss: 0.2521 - val_acc: 0.9054\n",
            "Epoch 18/100\n",
            "307/307 [==============================] - 6s 20ms/step - loss: 0.2349 - acc: 0.9161 - val_loss: 0.2613 - val_acc: 0.8987\n",
            "Epoch 19/100\n",
            "307/307 [==============================] - 6s 20ms/step - loss: 0.2277 - acc: 0.9184 - val_loss: 0.2469 - val_acc: 0.9060\n",
            "Epoch 20/100\n",
            "307/307 [==============================] - 6s 20ms/step - loss: 0.2222 - acc: 0.9198 - val_loss: 0.2355 - val_acc: 0.9124\n",
            "Epoch 21/100\n",
            "307/307 [==============================] - 6s 20ms/step - loss: 0.2179 - acc: 0.9206 - val_loss: 0.2399 - val_acc: 0.9074\n",
            "Epoch 22/100\n",
            "307/307 [==============================] - 6s 20ms/step - loss: 0.2108 - acc: 0.9233 - val_loss: 0.2278 - val_acc: 0.9137\n",
            "Epoch 23/100\n",
            "307/307 [==============================] - 6s 20ms/step - loss: 0.2056 - acc: 0.9249 - val_loss: 0.2863 - val_acc: 0.8829\n",
            "Epoch 24/100\n",
            "307/307 [==============================] - 6s 20ms/step - loss: 0.2003 - acc: 0.9264 - val_loss: 0.2171 - val_acc: 0.9180\n",
            "Epoch 25/100\n",
            "307/307 [==============================] - 6s 20ms/step - loss: 0.1953 - acc: 0.9281 - val_loss: 0.2091 - val_acc: 0.9209\n",
            "Epoch 26/100\n",
            "307/307 [==============================] - 6s 20ms/step - loss: 0.1914 - acc: 0.9290 - val_loss: 0.2127 - val_acc: 0.9170\n",
            "Epoch 27/100\n",
            "307/307 [==============================] - 6s 20ms/step - loss: 0.1893 - acc: 0.9292 - val_loss: 0.2091 - val_acc: 0.9196\n",
            "Epoch 28/100\n",
            "307/307 [==============================] - 6s 20ms/step - loss: 0.1848 - acc: 0.9307 - val_loss: 0.2200 - val_acc: 0.9130\n",
            "Epoch 29/100\n",
            "307/307 [==============================] - 6s 20ms/step - loss: 0.1813 - acc: 0.9316 - val_loss: 0.1996 - val_acc: 0.9224\n",
            "Epoch 30/100\n",
            "307/307 [==============================] - 6s 20ms/step - loss: 0.1787 - acc: 0.9321 - val_loss: 0.2110 - val_acc: 0.9178\n",
            "Epoch 31/100\n",
            "307/307 [==============================] - 6s 20ms/step - loss: 0.1746 - acc: 0.9336 - val_loss: 0.1893 - val_acc: 0.9258\n",
            "Epoch 32/100\n",
            "307/307 [==============================] - 6s 20ms/step - loss: 0.1714 - acc: 0.9346 - val_loss: 0.2008 - val_acc: 0.9196\n",
            "Epoch 33/100\n",
            "307/307 [==============================] - 6s 20ms/step - loss: 0.1693 - acc: 0.9350 - val_loss: 0.1870 - val_acc: 0.9261\n",
            "Epoch 34/100\n",
            "307/307 [==============================] - 6s 20ms/step - loss: 0.1680 - acc: 0.9350 - val_loss: 0.1973 - val_acc: 0.9199\n",
            "Epoch 35/100\n",
            "307/307 [==============================] - 6s 20ms/step - loss: 0.1660 - acc: 0.9355 - val_loss: 0.1868 - val_acc: 0.9245\n",
            "Epoch 36/100\n",
            "307/307 [==============================] - 6s 20ms/step - loss: 0.1620 - acc: 0.9371 - val_loss: 0.1953 - val_acc: 0.9225\n",
            "Epoch 37/100\n",
            "307/307 [==============================] - 6s 20ms/step - loss: 0.1596 - acc: 0.9377 - val_loss: 0.1875 - val_acc: 0.9236\n",
            "Epoch 38/100\n",
            "307/307 [==============================] - 6s 20ms/step - loss: 0.1585 - acc: 0.9378 - val_loss: 0.1810 - val_acc: 0.9273\n",
            "Epoch 39/100\n",
            "307/307 [==============================] - 6s 20ms/step - loss: 0.1565 - acc: 0.9384 - val_loss: 0.1848 - val_acc: 0.9262\n",
            "Epoch 40/100\n",
            "307/307 [==============================] - 6s 20ms/step - loss: 0.1543 - acc: 0.9390 - val_loss: 0.1743 - val_acc: 0.9300\n",
            "Epoch 41/100\n",
            "307/307 [==============================] - 6s 20ms/step - loss: 0.1525 - acc: 0.9396 - val_loss: 0.1703 - val_acc: 0.9309\n",
            "Epoch 42/100\n",
            "307/307 [==============================] - 6s 20ms/step - loss: 0.1527 - acc: 0.9391 - val_loss: 0.1895 - val_acc: 0.9230\n",
            "Epoch 43/100\n",
            "307/307 [==============================] - 6s 20ms/step - loss: 0.1501 - acc: 0.9401 - val_loss: 0.1768 - val_acc: 0.9281\n",
            "Epoch 44/100\n",
            "307/307 [==============================] - 6s 20ms/step - loss: 0.1504 - acc: 0.9397 - val_loss: 0.1699 - val_acc: 0.9302\n",
            "Epoch 45/100\n",
            "307/307 [==============================] - 6s 20ms/step - loss: 0.1471 - acc: 0.9409 - val_loss: 0.1704 - val_acc: 0.9303\n",
            "Epoch 46/100\n",
            "307/307 [==============================] - 6s 20ms/step - loss: 0.1457 - acc: 0.9414 - val_loss: 0.1725 - val_acc: 0.9293\n",
            "Epoch 47/100\n",
            "307/307 [==============================] - 6s 20ms/step - loss: 0.1453 - acc: 0.9412 - val_loss: 0.1788 - val_acc: 0.9254\n",
            "Epoch 48/100\n",
            "307/307 [==============================] - 6s 20ms/step - loss: 0.1434 - acc: 0.9420 - val_loss: 0.1672 - val_acc: 0.9312\n",
            "Epoch 49/100\n",
            "307/307 [==============================] - 6s 20ms/step - loss: 0.1421 - acc: 0.9423 - val_loss: 0.1656 - val_acc: 0.9317\n",
            "Epoch 50/100\n",
            "307/307 [==============================] - 6s 20ms/step - loss: 0.1400 - acc: 0.9432 - val_loss: 0.1603 - val_acc: 0.9337\n",
            "Epoch 51/100\n",
            "307/307 [==============================] - 6s 20ms/step - loss: 0.1401 - acc: 0.9429 - val_loss: 0.1606 - val_acc: 0.9337\n",
            "Epoch 52/100\n",
            "307/307 [==============================] - 6s 20ms/step - loss: 0.1395 - acc: 0.9430 - val_loss: 0.1612 - val_acc: 0.9331\n",
            "Epoch 53/100\n",
            "307/307 [==============================] - 6s 20ms/step - loss: 0.1398 - acc: 0.9426 - val_loss: 0.1766 - val_acc: 0.9270\n",
            "Epoch 54/100\n",
            "307/307 [==============================] - 6s 20ms/step - loss: 0.1376 - acc: 0.9436 - val_loss: 0.1617 - val_acc: 0.9326\n",
            "Epoch 55/100\n",
            "307/307 [==============================] - 6s 20ms/step - loss: 0.1369 - acc: 0.9437 - val_loss: 0.1585 - val_acc: 0.9339\n",
            "Epoch 56/100\n",
            "307/307 [==============================] - 6s 20ms/step - loss: 0.1350 - acc: 0.9445 - val_loss: 0.1597 - val_acc: 0.9334\n",
            "Epoch 57/100\n",
            "307/307 [==============================] - 6s 20ms/step - loss: 0.1350 - acc: 0.9443 - val_loss: 0.1580 - val_acc: 0.9338\n",
            "Epoch 58/100\n",
            "307/307 [==============================] - 6s 20ms/step - loss: 0.1348 - acc: 0.9444 - val_loss: 0.1577 - val_acc: 0.9340\n",
            "Epoch 59/100\n",
            "307/307 [==============================] - 6s 20ms/step - loss: 0.1334 - acc: 0.9448 - val_loss: 0.1780 - val_acc: 0.9258\n",
            "Epoch 60/100\n",
            "307/307 [==============================] - 6s 20ms/step - loss: 0.1334 - acc: 0.9447 - val_loss: 0.1584 - val_acc: 0.9337\n",
            "Epoch 61/100\n",
            "307/307 [==============================] - 6s 20ms/step - loss: 0.1318 - acc: 0.9453 - val_loss: 0.1677 - val_acc: 0.9300\n",
            "Epoch 62/100\n",
            "307/307 [==============================] - 6s 20ms/step - loss: 0.1310 - acc: 0.9456 - val_loss: 0.1554 - val_acc: 0.9346\n",
            "Epoch 63/100\n",
            "307/307 [==============================] - 6s 20ms/step - loss: 0.1308 - acc: 0.9455 - val_loss: 0.1552 - val_acc: 0.9349\n",
            "Epoch 64/100\n",
            "307/307 [==============================] - 6s 20ms/step - loss: 0.1297 - acc: 0.9459 - val_loss: 0.1483 - val_acc: 0.9375\n",
            "Epoch 65/100\n",
            "307/307 [==============================] - 6s 20ms/step - loss: 0.1290 - acc: 0.9462 - val_loss: 0.1501 - val_acc: 0.9370\n",
            "Epoch 66/100\n",
            "307/307 [==============================] - 6s 20ms/step - loss: 0.1278 - acc: 0.9466 - val_loss: 0.1503 - val_acc: 0.9366\n",
            "Epoch 67/100\n",
            "307/307 [==============================] - 6s 20ms/step - loss: 0.1279 - acc: 0.9466 - val_loss: 0.1505 - val_acc: 0.9364\n",
            "Epoch 68/100\n",
            "307/307 [==============================] - 6s 20ms/step - loss: 0.1266 - acc: 0.9471 - val_loss: 0.1521 - val_acc: 0.9358\n",
            "Epoch 69/100\n",
            "307/307 [==============================] - 6s 20ms/step - loss: 0.1272 - acc: 0.9468 - val_loss: 0.1743 - val_acc: 0.9273\n",
            "Epoch 70/100\n",
            "307/307 [==============================] - 6s 20ms/step - loss: 0.1263 - acc: 0.9471 - val_loss: 0.1555 - val_acc: 0.9347\n",
            "Epoch 71/100\n",
            "307/307 [==============================] - 6s 20ms/step - loss: 0.1253 - acc: 0.9474 - val_loss: 0.1695 - val_acc: 0.9291\n",
            "Epoch 72/100\n",
            "307/307 [==============================] - 6s 20ms/step - loss: 0.1245 - acc: 0.9477 - val_loss: 0.1534 - val_acc: 0.9355\n",
            "Epoch 73/100\n",
            "307/307 [==============================] - 6s 20ms/step - loss: 0.1240 - acc: 0.9479 - val_loss: 0.1562 - val_acc: 0.9342\n",
            "Epoch 74/100\n",
            "307/307 [==============================] - 6s 20ms/step - loss: 0.1231 - acc: 0.9483 - val_loss: 0.1537 - val_acc: 0.9353\n",
            "Epoch 75/100\n",
            "307/307 [==============================] - 6s 20ms/step - loss: 0.1238 - acc: 0.9479 - val_loss: 0.1455 - val_acc: 0.9386\n",
            "Epoch 76/100\n",
            "307/307 [==============================] - 6s 20ms/step - loss: 0.1218 - acc: 0.9488 - val_loss: 0.1478 - val_acc: 0.9375\n",
            "Epoch 77/100\n",
            "307/307 [==============================] - 6s 20ms/step - loss: 0.1222 - acc: 0.9485 - val_loss: 0.1681 - val_acc: 0.9292\n",
            "Epoch 78/100\n",
            "307/307 [==============================] - 6s 20ms/step - loss: 0.1217 - acc: 0.9487 - val_loss: 0.1571 - val_acc: 0.9340\n",
            "Epoch 79/100\n",
            "307/307 [==============================] - 6s 20ms/step - loss: 0.1224 - acc: 0.9483 - val_loss: 0.1552 - val_acc: 0.9345\n",
            "Epoch 80/100\n",
            "307/307 [==============================] - 6s 20ms/step - loss: 0.1210 - acc: 0.9489 - val_loss: 0.1552 - val_acc: 0.9341\n",
            "Epoch 81/100\n",
            "307/307 [==============================] - 6s 20ms/step - loss: 0.1204 - acc: 0.9492 - val_loss: 0.1626 - val_acc: 0.9319\n",
            "Epoch 82/100\n",
            "307/307 [==============================] - 6s 20ms/step - loss: 0.1210 - acc: 0.9488 - val_loss: 0.1494 - val_acc: 0.9368\n",
            "Epoch 83/100\n",
            "307/307 [==============================] - 6s 20ms/step - loss: 0.1210 - acc: 0.9489 - val_loss: 0.1532 - val_acc: 0.9355\n",
            "Epoch 84/100\n",
            "307/307 [==============================] - 6s 20ms/step - loss: 0.1190 - acc: 0.9497 - val_loss: 0.1417 - val_acc: 0.9400\n",
            "Epoch 85/100\n",
            "307/307 [==============================] - 6s 20ms/step - loss: 0.1193 - acc: 0.9495 - val_loss: 0.1443 - val_acc: 0.9388\n",
            "Epoch 86/100\n",
            "307/307 [==============================] - 6s 20ms/step - loss: 0.1180 - acc: 0.9501 - val_loss: 0.1422 - val_acc: 0.9395\n",
            "Epoch 87/100\n",
            "307/307 [==============================] - 6s 20ms/step - loss: 0.1170 - acc: 0.9505 - val_loss: 0.1423 - val_acc: 0.9395\n",
            "Epoch 88/100\n",
            "307/307 [==============================] - 6s 20ms/step - loss: 0.1169 - acc: 0.9505 - val_loss: 0.1423 - val_acc: 0.9397\n",
            "Epoch 89/100\n",
            "307/307 [==============================] - 6s 20ms/step - loss: 0.1167 - acc: 0.9506 - val_loss: 0.1419 - val_acc: 0.9399\n",
            "Epoch 90/100\n",
            "307/307 [==============================] - 6s 20ms/step - loss: 0.1166 - acc: 0.9506 - val_loss: 0.1437 - val_acc: 0.9391\n",
            "Epoch 91/100\n",
            "307/307 [==============================] - 6s 20ms/step - loss: 0.1179 - acc: 0.9500 - val_loss: 0.1398 - val_acc: 0.9407\n",
            "Epoch 92/100\n",
            "307/307 [==============================] - 6s 20ms/step - loss: 0.1160 - acc: 0.9508 - val_loss: 0.1406 - val_acc: 0.9404\n",
            "Epoch 93/100\n",
            "307/307 [==============================] - 6s 20ms/step - loss: 0.1178 - acc: 0.9500 - val_loss: 0.1462 - val_acc: 0.9380\n",
            "Epoch 94/100\n",
            "307/307 [==============================] - 6s 20ms/step - loss: 0.1179 - acc: 0.9499 - val_loss: 0.1408 - val_acc: 0.9402\n",
            "Epoch 95/100\n",
            "307/307 [==============================] - 6s 20ms/step - loss: 0.1162 - acc: 0.9506 - val_loss: 0.1381 - val_acc: 0.9414\n",
            "Epoch 96/100\n",
            "307/307 [==============================] - 6s 20ms/step - loss: 0.1153 - acc: 0.9510 - val_loss: 0.1428 - val_acc: 0.9395\n",
            "Epoch 97/100\n",
            "307/307 [==============================] - 6s 20ms/step - loss: 0.1151 - acc: 0.9510 - val_loss: 0.1478 - val_acc: 0.9378\n",
            "Epoch 98/100\n",
            "307/307 [==============================] - 6s 20ms/step - loss: 0.1155 - acc: 0.9509 - val_loss: 0.1422 - val_acc: 0.9398\n",
            "Epoch 99/100\n",
            "307/307 [==============================] - 6s 20ms/step - loss: 0.1152 - acc: 0.9510 - val_loss: 0.1473 - val_acc: 0.9377\n",
            "Epoch 100/100\n",
            "307/307 [==============================] - 6s 20ms/step - loss: 0.1138 - acc: 0.9517 - val_loss: 0.1402 - val_acc: 0.9406\n"
          ],
          "name": "stdout"
        },
        {
          "output_type": "execute_result",
          "data": {
            "text/plain": [
              "<keras.callbacks.History at 0x7f100b878128>"
            ]
          },
          "metadata": {
            "tags": []
          },
          "execution_count": 22
        }
      ]
    },
    {
      "cell_type": "code",
      "metadata": {
        "id": "WGLQun62UK_K",
        "colab_type": "code",
        "colab": {
          "base_uri": "https://localhost:8080/",
          "height": 324
        },
        "outputId": "bb78d9a1-c9a5-46c5-9650-93e842749e7d"
      },
      "source": [
        "test_x = model.predict(x_test[55].reshape(1,256,256,1))\n",
        "\n",
        "test_x_thresh = test_x.copy()\n",
        "test_x_thresh[test_x >= 0.1] = 1\n",
        "test_x_thresh[test_x < 0.1] = 0\n",
        "\n",
        "fig, ax = plt.subplots(1, 2, figsize=(10, 5))\n",
        "ax[0].imshow(y_test[55].reshape(256,256)) #actual\n",
        "ax[1].imshow(test_x_thresh.reshape(256,256))     #predicted(apply threshold if needed)"
      ],
      "execution_count": 23,
      "outputs": [
        {
          "output_type": "execute_result",
          "data": {
            "text/plain": [
              "<matplotlib.image.AxesImage at 0x7f100b521518>"
            ]
          },
          "metadata": {
            "tags": []
          },
          "execution_count": 23
        },
        {
          "output_type": "display_data",
          "data": {
            "image/png": "[encoded data removed]",
            "text/plain": [
              "<Figure size 720x360 with 2 Axes>"
            ]
          },
          "metadata": {
            "tags": []
          }
        }
      ]
    },
    {
      "cell_type": "code",
      "metadata": {
        "id": "RipR3A9Lw-r-",
        "colab_type": "code",
        "colab": {}
      },
      "source": [
        "def calc_iou(real,pred):\n",
        "  num = np.logical_and(real,pred)\n",
        "  den = np.logical_or(real,pred)\n",
        "  \n",
        "  return np.sum(num) / np.sum(den)"
      ],
      "execution_count": 0,
      "outputs": []
    },
    {
      "cell_type": "code",
      "metadata": {
        "id": "Ai8_IVtwrHNe",
        "colab_type": "code",
        "colab": {}
      },
      "source": [
        "iou_train = []\n",
        "for i,j in zip(x_train,y_train):\n",
        "  \n",
        "  dummy = model.predict(i.reshape(1,256,256,1))\n",
        "  img = dummy.copy()\n",
        "  img[dummy< 0.1] = 0\n",
        "  img[dummy >= 0.1] = 1\n",
        "  iou_train.append(calc_iou(j.reshape(256,256),img.reshape(256,256)))"
      ],
      "execution_count": 0,
      "outputs": []
    },
    {
      "cell_type": "code",
      "metadata": {
        "id": "9W5uggIwymBK",
        "colab_type": "code",
        "colab": {}
      },
      "source": [
        "iou_test = []\n",
        "for i,j in zip(x_test,y_test):\n",
        "  \n",
        "  dummy = model.predict(i.reshape(1,256,256,1))\n",
        "  img = dummy.copy()\n",
        "  img[dummy< 0.1] = 0\n",
        "  img[dummy >= 0.1] = 1\n",
        "  iou_test.append(calc_iou(j.reshape(256,256),img.reshape(256,256)))"
      ],
      "execution_count": 0,
      "outputs": []
    },
    {
      "cell_type": "code",
      "metadata": {
        "id": "DvRFFrU7ywhd",
        "colab_type": "code",
        "colab": {
          "base_uri": "https://localhost:8080/",
          "height": 54
        },
        "outputId": "2cc6cfdb-5409-4a12-f58a-75d7ba953982"
      },
      "source": [
        "print(\"Mean IOU on training data %f\"%(np.mean(np.array(iou_train))))\n",
        "print(\"Mean IOU on test data %f\"%(np.mean(np.array(iou_test))))"
      ],
      "execution_count": 39,
      "outputs": [
        {
          "output_type": "stream",
          "text": [
            "Mean IOU on training data 0.903702\n",
            "Mean IOU on test data 0.893087\n"
          ],
          "name": "stdout"
        }
      ]
    },
    {
      "cell_type": "code",
      "metadata": {
        "id": "77nY1out0J-f",
        "colab_type": "code",
        "colab": {}
      },
      "source": [
        ""
      ],
      "execution_count": 0,
      "outputs": []
    }
  ]
}